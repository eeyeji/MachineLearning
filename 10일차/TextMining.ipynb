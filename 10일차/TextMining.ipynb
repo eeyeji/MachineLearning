{
 "cells": [
  {
   "cell_type": "markdown",
   "metadata": {},
   "source": [
    "##### 텍스트마이닝"
   ]
  },
  {
   "cell_type": "code",
   "execution_count": 13,
   "metadata": {},
   "outputs": [],
   "source": [
    "import nltk\n",
    "from nltk.corpus import stopwords\n",
    "nltk.download('book', quiet=True)\n",
    "from nltk.book import *\n",
    "from nltk.tokenize import RegexpTokenizer, WordPunctTokenizer\n",
    "from collections import Counter\n",
    "from wordcloud import WordCloud\n",
    "import matplotlib.pyplot as plt"
   ]
  },
  {
   "cell_type": "code",
   "execution_count": 14,
   "metadata": {},
   "outputs": [
    {
     "data": {
      "text/plain": [
       "['austen-emma.txt',\n",
       " 'austen-persuasion.txt',\n",
       " 'austen-sense.txt',\n",
       " 'bible-kjv.txt',\n",
       " 'blake-poems.txt',\n",
       " 'bryant-stories.txt',\n",
       " 'burgess-busterbrown.txt',\n",
       " 'carroll-alice.txt',\n",
       " 'chesterton-ball.txt',\n",
       " 'chesterton-brown.txt',\n",
       " 'chesterton-thursday.txt',\n",
       " 'edgeworth-parents.txt',\n",
       " 'melville-moby_dick.txt',\n",
       " 'milton-paradise.txt',\n",
       " 'shakespeare-caesar.txt',\n",
       " 'shakespeare-hamlet.txt',\n",
       " 'shakespeare-macbeth.txt',\n",
       " 'whitman-leaves.txt']"
      ]
     },
     "execution_count": 14,
     "metadata": {},
     "output_type": "execute_result"
    }
   ],
   "source": [
    "#데이터 목록 확인\n",
    "nltk.corpus.gutenberg.fileids()"
   ]
  },
  {
   "cell_type": "code",
   "execution_count": 15,
   "metadata": {},
   "outputs": [],
   "source": [
    "#첫번째 데이터 사용\n",
    "data = nltk.corpus.gutenberg.raw('austen-emma.txt')"
   ]
  },
  {
   "cell_type": "code",
   "execution_count": 16,
   "metadata": {},
   "outputs": [
    {
     "data": {
      "text/plain": [
       "887071"
      ]
     },
     "execution_count": 16,
     "metadata": {},
     "output_type": "execute_result"
    }
   ],
   "source": [
    "len(data)"
   ]
  },
  {
   "cell_type": "code",
   "execution_count": 17,
   "metadata": {},
   "outputs": [],
   "source": [
    "#데이터가 너무 많으니깐 1000개까지만 저장\n",
    "data=data[:1000]"
   ]
  },
  {
   "cell_type": "code",
   "execution_count": 18,
   "metadata": {},
   "outputs": [],
   "source": [
    "#단어 단위로 토크나이징\n",
    "#띄어쓰기 단위로 토크나이징하는 함수 저장\n",
    "tokenizer = WordPunctTokenizer()\n",
    "#저장한 함수 사용\n",
    "data = tokenizer.tokenize(data)"
   ]
  },
  {
   "cell_type": "code",
   "execution_count": 19,
   "metadata": {},
   "outputs": [],
   "source": [
    "#불용어 제거\n",
    "data=[each_word for each_word in data if each_word not in stopwords.words()]"
   ]
  },
  {
   "cell_type": "code",
   "execution_count": 20,
   "metadata": {},
   "outputs": [],
   "source": [
    "#단어 별 언급 빈도 확인\n",
    "data_cnt = Counter(data)\n",
    "data_cnt = dict(data_cnt)"
   ]
  },
  {
   "cell_type": "code",
   "execution_count": 21,
   "metadata": {},
   "outputs": [
    {
     "data": {
      "text/plain": [
       "{'[': 1,\n",
       " 'Emma': 3,\n",
       " 'Jane': 1,\n",
       " 'Austen': 1,\n",
       " '1816': 1,\n",
       " ']': 1,\n",
       " 'VOLUME': 1,\n",
       " 'I': 2,\n",
       " 'CHAPTER': 1,\n",
       " 'Woodhouse': 2,\n",
       " ',': 13,\n",
       " 'handsome': 1,\n",
       " 'clever': 1,\n",
       " 'rich': 1,\n",
       " 'comfortable': 1,\n",
       " 'home': 1,\n",
       " 'happy': 1,\n",
       " 'disposition': 1,\n",
       " 'unite': 1,\n",
       " 'blessings': 1,\n",
       " 'existence': 1,\n",
       " ';': 3,\n",
       " 'lived': 1,\n",
       " 'twenty': 1,\n",
       " '-': 1,\n",
       " 'years': 2,\n",
       " 'world': 1,\n",
       " 'distress': 1,\n",
       " 'vex': 1,\n",
       " '.': 6,\n",
       " 'She': 1,\n",
       " 'youngest': 1,\n",
       " 'daughters': 2,\n",
       " 'affectionate': 1,\n",
       " 'indulgent': 1,\n",
       " 'father': 1,\n",
       " 'consequence': 1,\n",
       " 'sister': 1,\n",
       " \"'\": 2,\n",
       " 'marriage': 1,\n",
       " 'mistress': 1,\n",
       " 'house': 1,\n",
       " 'early': 1,\n",
       " 'period': 1,\n",
       " 'Her': 1,\n",
       " 'mother': 2,\n",
       " 'died': 1,\n",
       " 'long': 1,\n",
       " 'ago': 1,\n",
       " 'indistinct': 1,\n",
       " 'remembrance': 1,\n",
       " 'caresses': 1,\n",
       " 'place': 1,\n",
       " 'supplied': 1,\n",
       " 'excellent': 1,\n",
       " 'woman': 1,\n",
       " 'governess': 3,\n",
       " 'fallen': 1,\n",
       " 'short': 1,\n",
       " 'affection': 1,\n",
       " 'Sixteen': 1,\n",
       " 'Miss': 2,\n",
       " 'Taylor': 2,\n",
       " 'Mr': 1,\n",
       " 'family': 1,\n",
       " 'friend': 1,\n",
       " 'fond': 1,\n",
       " 'particularly': 1,\n",
       " 'Between': 1,\n",
       " '_them_': 1,\n",
       " 'intimacy': 1,\n",
       " 'sisters': 1,\n",
       " 'Even': 1,\n",
       " 'ceased': 1,\n",
       " 'hold': 1,\n",
       " 'nominal': 1,\n",
       " 'office': 1,\n",
       " 'mildness': 1}"
      ]
     },
     "execution_count": 21,
     "metadata": {},
     "output_type": "execute_result"
    }
   ],
   "source": [
    "data_cnt"
   ]
  },
  {
   "cell_type": "code",
   "execution_count": null,
   "metadata": {},
   "outputs": [],
   "source": []
  },
  {
   "cell_type": "code",
   "execution_count": null,
   "metadata": {},
   "outputs": [],
   "source": []
  },
  {
   "cell_type": "code",
   "execution_count": null,
   "metadata": {},
   "outputs": [],
   "source": []
  },
  {
   "cell_type": "code",
   "execution_count": null,
   "metadata": {},
   "outputs": [],
   "source": []
  },
  {
   "cell_type": "code",
   "execution_count": null,
   "metadata": {},
   "outputs": [],
   "source": []
  },
  {
   "cell_type": "code",
   "execution_count": null,
   "metadata": {},
   "outputs": [],
   "source": []
  },
  {
   "cell_type": "code",
   "execution_count": null,
   "metadata": {},
   "outputs": [],
   "source": []
  },
  {
   "cell_type": "code",
   "execution_count": null,
   "metadata": {},
   "outputs": [],
   "source": []
  },
  {
   "cell_type": "code",
   "execution_count": null,
   "metadata": {},
   "outputs": [],
   "source": []
  }
 ],
 "metadata": {
  "kernelspec": {
   "display_name": "Python 3.9.12 ('base')",
   "language": "python",
   "name": "python3"
  },
  "language_info": {
   "codemirror_mode": {
    "name": "ipython",
    "version": 3
   },
   "file_extension": ".py",
   "mimetype": "text/x-python",
   "name": "python",
   "nbconvert_exporter": "python",
   "pygments_lexer": "ipython3",
   "version": "3.9.12"
  },
  "orig_nbformat": 4,
  "vscode": {
   "interpreter": {
    "hash": "a077222d77dfe082b8f1dd562ad70e458ac2ab76993a0b248ab0476e32e9e8dd"
   }
  }
 },
 "nbformat": 4,
 "nbformat_minor": 2
}
