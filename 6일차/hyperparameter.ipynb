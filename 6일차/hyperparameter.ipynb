{
 "cells": [
  {
   "cell_type": "markdown",
   "metadata": {},
   "source": [
    "##### 은닉층의 크기를 정의: hidden_layer_sizes\n",
    "- 은닉층의 크기릉 정의하는 hidden_layer_sizes는 은닉층의 수와 뉴런의 갯수를 튜플로 전달함\n",
    "- ex) 10개의 뉴런을 가진 2개의 은닉층을 만든다. \n",
    "    - hidden_layer_sizes = (10, 10)\n",
    "- hidden_layer_sizes의 기본값은 (100,)\n",
    "    - 은닉층은 하나지만 100개의 뉴런은 가지고 있다는 뜻\n",
    "    - 하나의 은닉층에 10개의 뉴런이 있다(10, )"
   ]
  },
  {
   "cell_type": "markdown",
   "metadata": {},
   "source": [
    "##### 활성화 함수 activation\n",
    "- activation: sigmoid -> logistic\n",
    "- 렐루라는 함수가 기본값"
   ]
  },
  {
   "cell_type": "markdown",
   "metadata": {},
   "source": [
    "##### 규제를 적용하기 위한 하이퍼파라미터: alpha\n",
    "- 일반적으로 l1규제: 효과가 크지 않기 때문에\n",
    "- l2규제만 지원함(sklearn 한정)\n",
    "- alpha의 기본값: 0.0001\n"
   ]
  },
  {
   "cell_type": "markdown",
   "metadata": {},
   "source": [
    "##### batch_size: 배치크기\n",
    "- 데이터를 얼마만큼의 크기로 잘라서 볼 것인지 정하는 사이즈\n",
    "##### learning_rate_init: 학습률 초기값 지정?\n",
    "##### learning_rate: 학습률 크기\n",
    "##### max_iter: 학습을 몇번 돌릴지 설정해주는 것(학습 횟수)"
   ]
  },
  {
   "cell_type": "code",
   "execution_count": 2,
   "metadata": {},
   "outputs": [],
   "source": [
    "import mglearn\n",
    "import graphviz\n",
    "import matplotlib.pyplot as plt\n",
    "from sklearn.datasets import load_breast_cancer\n",
    "from sklearn.model_selection import train_test_split\n",
    "from sklearn.neural_network import MLPClassifier\n",
    "from sklearn.datasets import make_moons"
   ]
  },
  {
   "cell_type": "markdown",
   "metadata": {},
   "source": [
    "- 인공신경망에서 two_moons 데이터셋을 적용\n",
    "- 은닉 유닛의 갯수는 딸로 설정x, 기본값 100사용"
   ]
  },
  {
   "cell_type": "code",
   "execution_count": 6,
   "metadata": {},
   "outputs": [],
   "source": [
    "x, y = make_moons(n_samples=100, noise=0.25, random_state=0)\n",
    "\n",
    "x_train, x_test, y_train, y_test = train_test_split(x, y, stratify=y, random_state=42)"
   ]
  },
  {
   "cell_type": "code",
   "execution_count": 10,
   "metadata": {},
   "outputs": [
    {
     "name": "stderr",
     "output_type": "stream",
     "text": [
      "c:\\Users\\user\\anaconda3\\lib\\site-packages\\sklearn\\neural_network\\_multilayer_perceptron.py:692: ConvergenceWarning: Stochastic Optimizer: Maximum iterations (200) reached and the optimization hasn't converged yet.\n",
      "  warnings.warn(\n"
     ]
    },
    {
     "data": {
      "text/plain": [
       "Text(0.5, 0, 'property 1')"
      ]
     },
     "execution_count": 10,
     "metadata": {},
     "output_type": "execute_result"
    },
    {
     "data": {
      "image/png": "[encoded data removed]",
      "text/plain": [
       "<Figure size 432x288 with 1 Axes>"
      ]
     },
     "metadata": {},
     "output_type": "display_data"
    }
   ],
   "source": [
    "mlp = MLPClassifier(random_state=0)\n",
    "mlp.fit(x_train, y_train)\n",
    "\n",
    "mglearn.plots.plot_2d_separator(mlp, x_train, fill=True, alpha=0.3)\n",
    "mglearn.discrete_scatter(x_train[:, 0], x_train[:, 1], y_train)\n",
    "plt.xlabel('property 0')\n",
    "plt.xlabel('property 1')"
   ]
  },
  {
   "cell_type": "code",
   "execution_count": null,
   "metadata": {},
   "outputs": [],
   "source": []
  },
  {
   "cell_type": "code",
   "execution_count": null,
   "metadata": {},
   "outputs": [],
   "source": []
  }
 ],
 "metadata": {
  "kernelspec": {
   "display_name": "Python 3.9.12 ('base')",
   "language": "python",
   "name": "python3"
  },
  "language_info": {
   "codemirror_mode": {
    "name": "ipython",
    "version": 3
   },
   "file_extension": ".py",
   "mimetype": "text/x-python",
   "name": "python",
   "nbconvert_exporter": "python",
   "pygments_lexer": "ipython3",
   "version": "3.9.12"
  },
  "orig_nbformat": 4,
  "vscode": {
   "interpreter": {
    "hash": "a077222d77dfe082b8f1dd562ad70e458ac2ab76993a0b248ab0476e32e9e8dd"
   }
  }
 },
 "nbformat": 4,
 "nbformat_minor": 2
}
