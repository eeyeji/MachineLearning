{
 "cells": [
  {
   "cell_type": "markdown",
   "metadata": {},
   "source": [
    "##### 은닉층의 크기를 정의: hidden_layer_sizes\n",
    "- 은닉층의 크기릉 정의하는 hidden_layer_sizes는 은닉층의 수와 뉴런의 갯수를 튜플로 전달함\n",
    "- ex) 10개의 뉴런을 가진 2개의 은닉층을 만든다. \n",
    "    - hidden_layer_sizes = (10, 10)\n",
    "- hidden_layer_sizes의 기본값은 (100,)\n",
    "    - 은닉층은 하나지만 100개의 뉴런은 가지고 있다는 뜻\n",
    "    - 하나의 은닉층에 10개의 뉴런이 있다(10, )"
   ]
  },
  {
   "cell_type": "markdown",
   "metadata": {},
   "source": [
    "##### 활성화 함수 activation\n",
    "- activation: sigmoid -> logistic\n",
    "- 렐루라는 함수가 기본값"
   ]
  },
  {
   "cell_type": "markdown",
   "metadata": {},
   "source": [
    "##### 규제를 적용하기 위한 하이퍼파라미터: alpha\n",
    "- 일반적으로 l1규제: 효과가 크지 않기 때문에\n",
    "- l2규제만 지원함(sklearn 한정)\n",
    "- alpha의 기본값: 0.0001\n"
   ]
  },
  {
   "cell_type": "markdown",
   "metadata": {},
   "source": [
    "##### batch_size: 배치크기\n",
    "- 데이터를 얼마만큼의 크기로 잘라서 볼 것인지 정하는 사이즈\n",
    "##### learning_rate_init: 학습률 초기값 지정?\n",
    "##### learning_rate: 학습률 크기\n",
    "##### max_iter: 학습을 몇번 돌릴지 설정해주는 것"
   ]
  },
  {
   "cell_type": "code",
   "execution_count": null,
   "metadata": {},
   "outputs": [],
   "source": []
  },
  {
   "cell_type": "code",
   "execution_count": null,
   "metadata": {},
   "outputs": [],
   "source": []
  },
  {
   "cell_type": "code",
   "execution_count": null,
   "metadata": {},
   "outputs": [],
   "source": []
  }
 ],
 "metadata": {
  "language_info": {
   "name": "python"
  },
  "orig_nbformat": 4
 },
 "nbformat": 4,
 "nbformat_minor": 2
}
