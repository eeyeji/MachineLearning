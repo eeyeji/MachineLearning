{
 "cells": [
  {
   "cell_type": "code",
   "execution_count": 15,
   "metadata": {},
   "outputs": [],
   "source": [
    "from sklearn.datasets import load_breast_cancer\n",
    "from sklearn.model_selection import train_test_split"
   ]
  },
  {
   "cell_type": "code",
   "execution_count": 16,
   "metadata": {},
   "outputs": [
    {
     "data": {
      "text/plain": [
       "dict_keys(['data', 'target', 'frame', 'target_names', 'DESCR', 'feature_names', 'filename', 'data_module'])"
      ]
     },
     "execution_count": 16,
     "metadata": {},
     "output_type": "execute_result"
    }
   ],
   "source": [
    "cancer=load_breast_cancer()\n",
    "cancer.keys()"
   ]
  },
  {
   "cell_type": "code",
   "execution_count": 17,
   "metadata": {},
   "outputs": [],
   "source": [
    "x_train, x_test, y_train, y_test = train_test_split(cancer.data, cancer.target, random_state=1234)"
   ]
  },
  {
   "cell_type": "markdown",
   "metadata": {},
   "source": [
    "- standardscaler\n",
    "    - 각 데이터의 feature들의 평균을 0, 분산을 1로 변경\n",
    "    - 모든 feature들이 같은 스케일러? 스케일?를 같게 됨"
   ]
  },
  {
   "cell_type": "code",
   "execution_count": 18,
   "metadata": {},
   "outputs": [
    {
     "data": {
      "text/plain": [
       "StandardScaler()"
      ]
     },
     "execution_count": 18,
     "metadata": {},
     "output_type": "execute_result"
    }
   ],
   "source": [
    "from sklearn.preprocessing import StandardScaler\n",
    "\n",
    "scaler1 = StandardScaler()\n",
    "scaler1.fit(x_train)"
   ]
  },
  {
   "cell_type": "code",
   "execution_count": 19,
   "metadata": {},
   "outputs": [
    {
     "data": {
      "text/plain": [
       "array([[1.617e+01, 1.607e+01, 1.063e+02, ..., 1.251e-01, 3.153e-01,\n",
       "        8.960e-02],\n",
       "       [1.317e+01, 1.866e+01, 8.598e+01, ..., 2.088e-01, 3.900e-01,\n",
       "        1.179e-01],\n",
       "       [1.247e+01, 1.731e+01, 8.045e+01, ..., 1.053e-01, 3.035e-01,\n",
       "        7.661e-02],\n",
       "       ...,\n",
       "       [1.247e+01, 1.860e+01, 8.109e+01, ..., 1.015e-01, 3.014e-01,\n",
       "        8.750e-02],\n",
       "       [1.822e+01, 1.870e+01, 1.203e+02, ..., 1.325e-01, 3.021e-01,\n",
       "        7.987e-02],\n",
       "       [1.272e+01, 1.378e+01, 8.178e+01, ..., 6.343e-02, 2.369e-01,\n",
       "        6.922e-02]])"
      ]
     },
     "execution_count": 19,
     "metadata": {},
     "output_type": "execute_result"
    }
   ],
   "source": [
    "x_train"
   ]
  },
  {
   "cell_type": "code",
   "execution_count": 20,
   "metadata": {},
   "outputs": [
    {
     "data": {
      "text/plain": [
       "array([[ 0.56834943, -0.7455382 ,  0.58009089, ...,  0.14461744,\n",
       "         0.39847515,  0.28446451],\n",
       "       [-0.28961453, -0.14718352, -0.26447524, ...,  1.41557963,\n",
       "         1.61872573,  1.78132724],\n",
       "       [-0.48980612, -0.45906723, -0.49432026, ..., -0.15604028,\n",
       "         0.20571803, -0.40261135],\n",
       "       ...,\n",
       "       [-0.48980612, -0.16104502, -0.46771975, ..., -0.21374227,\n",
       "         0.1714138 ,  0.17338989],\n",
       "       [ 1.15462481, -0.13794252,  1.16197701, ...,  0.25698447,\n",
       "         0.18284854, -0.23018123],\n",
       "       [-0.41830912, -1.2745854 , -0.43904107, ..., -0.79182507,\n",
       "        -0.88221622, -0.79348823]])"
      ]
     },
     "execution_count": 20,
     "metadata": {},
     "output_type": "execute_result"
    }
   ],
   "source": [
    "x_scaled1 = scaler1.transform(x_train)\n",
    "x_scaled1"
   ]
  },
  {
   "cell_type": "code",
   "execution_count": 21,
   "metadata": {},
   "outputs": [
    {
     "name": "stdout",
     "output_type": "stream",
     "text": [
      "스케일 조정 전 min value:  [6.981e+00 1.038e+01 4.379e+01 1.435e+02 5.263e-02 1.938e-02 0.000e+00\n",
      " 0.000e+00 1.060e-01 4.996e-02 1.115e-01 3.602e-01 7.570e-01 7.228e+00\n",
      " 2.838e-03 2.252e-03 0.000e+00 0.000e+00 7.882e-03 8.948e-04 7.930e+00\n",
      " 1.249e+01 5.041e+01 1.852e+02 8.125e-02 3.432e-02 0.000e+00 0.000e+00\n",
      " 1.565e-01 5.504e-02]\n",
      "스케일 조정 전 max value:  [2.811e+01 3.381e+01 1.885e+02 2.499e+03 1.447e-01 3.114e-01 4.268e-01\n",
      " 2.012e-01 3.040e-01 9.744e-02 2.873e+00 3.896e+00 2.198e+01 5.256e+02\n",
      " 3.113e-02 1.354e-01 3.960e-01 5.279e-02 6.146e-02 2.984e-02 3.313e+01\n",
      " 4.954e+01 2.293e+02 3.234e+03 2.226e-01 1.058e+00 1.252e+00 2.910e-01\n",
      " 6.638e-01 2.075e-01]\n",
      "스케일 조정 후 min value:  [-2.05959418 -2.06007032 -2.01803061 -1.47906849 -3.11840193 -1.61914251\n",
      " -1.12209848 -1.26938777 -2.78192834 -1.81018812 -1.07589572 -1.56507334\n",
      " -1.05735035 -0.77526135 -1.37519266 -1.27269316 -1.00981927 -1.8540401\n",
      " -1.58069217 -1.08204572 -1.75802372 -2.12998626 -1.72206377 -1.25531716\n",
      " -2.2407888  -1.36335806 -1.2896095  -1.75499271 -2.19557829 -1.54350637]\n",
      "스케일 조정 후 mix value:  [ 3.983046    3.35284486  3.99659366  5.2755639   3.42419492  3.94256298\n",
      "  4.20261238  3.91312864  4.51510874  4.92100768  9.00399628  4.83781834\n",
      "  9.51423902 11.3763671   7.75293988  5.98025485 11.36998328  6.44619355\n",
      "  5.1657793   9.67511962  3.51968449  3.81326034  3.64761068  4.21809238\n",
      "  3.87029285  4.90322123  4.50512912  2.66376471  6.09134431  6.520511  ]\n"
     ]
    }
   ],
   "source": [
    "print(\"스케일 조정 전 min value: \", x_train.min(axis=0))\n",
    "print('스케일 조정 전 max value: ', x_train.max(axis=0))\n",
    "print('스케일 조정 후 min value: ', x_scaled1.min(axis=0))\n",
    "print('스케일 조정 후 mix value: ', x_scaled1.max(axis=0))"
   ]
  },
  {
   "cell_type": "markdown",
   "metadata": {},
   "source": [
    "- RobustScaler  \n",
    "    - 모든 feature가 같은 크기를 갖는다는 점에서 StandardScaler와 비슷하지만, 평균이라 분산 대신에 median과 quartile을 사용\n",
    "    - 이상치의 영향을 받지 않는다"
   ]
  },
  {
   "cell_type": "code",
   "execution_count": 25,
   "metadata": {},
   "outputs": [],
   "source": [
    "from sklearn.preprocessing import RobustScaler\n",
    "\n",
    "scaler2 = RobustScaler()\n",
    "x_scaled2 = scaler2.fit_transform(x_train)"
   ]
  },
  {
   "cell_type": "code",
   "execution_count": 26,
   "metadata": {},
   "outputs": [
    {
     "name": "stdout",
     "output_type": "stream",
     "text": [
      "스케일 조정 전 min value:  [6.981e+00 1.038e+01 4.379e+01 1.435e+02 5.263e-02 1.938e-02 0.000e+00\n",
      " 0.000e+00 1.060e-01 4.996e-02 1.115e-01 3.602e-01 7.570e-01 7.228e+00\n",
      " 2.838e-03 2.252e-03 0.000e+00 0.000e+00 7.882e-03 8.948e-04 7.930e+00\n",
      " 1.249e+01 5.041e+01 1.852e+02 8.125e-02 3.432e-02 0.000e+00 0.000e+00\n",
      " 1.565e-01 5.504e-02]\n",
      "스케일 조정 전 max value:  [2.811e+01 3.381e+01 1.885e+02 2.499e+03 1.447e-01 3.114e-01 4.268e-01\n",
      " 2.012e-01 3.040e-01 9.744e-02 2.873e+00 3.896e+00 2.198e+01 5.256e+02\n",
      " 3.113e-02 1.354e-01 3.960e-01 5.279e-02 6.146e-02 2.984e-02 3.313e+01\n",
      " 4.954e+01 2.293e+02 3.234e+03 2.226e-01 1.058e+00 1.252e+00 2.910e-01\n",
      " 6.638e-01 2.075e-01]\n",
      "스케일 조정 후 min value:  [-2.05959418 -2.06007032 -2.01803061 -1.47906849 -3.11840193 -1.61914251\n",
      " -1.12209848 -1.26938777 -2.78192834 -1.81018812 -1.07589572 -1.56507334\n",
      " -1.05735035 -0.77526135 -1.37519266 -1.27269316 -1.00981927 -1.8540401\n",
      " -1.58069217 -1.08204572 -1.75802372 -2.12998626 -1.72206377 -1.25531716\n",
      " -2.2407888  -1.36335806 -1.2896095  -1.75499271 -2.19557829 -1.54350637]\n",
      "스케일 조정 후 mix value:  [ 3.983046    3.35284486  3.99659366  5.2755639   3.42419492  3.94256298\n",
      "  4.20261238  3.91312864  4.51510874  4.92100768  9.00399628  4.83781834\n",
      "  9.51423902 11.3763671   7.75293988  5.98025485 11.36998328  6.44619355\n",
      "  5.1657793   9.67511962  3.51968449  3.81326034  3.64761068  4.21809238\n",
      "  3.87029285  4.90322123  4.50512912  2.66376471  6.09134431  6.520511  ]\n"
     ]
    }
   ],
   "source": [
    "print(\"스케일 조정 전 min value: \", x_train.min(axis=0))\n",
    "print('스케일 조정 전 max value: ', x_train.max(axis=0))\n",
    "print('스케일 조정 후 min value: ', x_scaled1.min(axis=0))\n",
    "print('스케일 조정 후 mix value: ', x_scaled1.max(axis=0))"
   ]
  },
  {
   "cell_type": "markdown",
   "metadata": {},
   "source": [
    "- MinMaxScaler\n",
    "    - 모든 feature가 0과 1 사이에 위치하게 만듦\n",
    "    - 데이터가 2차원 셋일 경우, 모든 데이터는 x축의 0과 1 사이에 y축의 0과 1 사이에 위치하게 됨"
   ]
  },
  {
   "cell_type": "code",
   "execution_count": 27,
   "metadata": {},
   "outputs": [],
   "source": [
    "from sklearn.preprocessing import MinMaxScaler\n",
    "\n",
    "scaler3=MinMaxScaler()\n",
    "x_scaled3 = scaler3.fit_transform(x_train)"
   ]
  },
  {
   "cell_type": "code",
   "execution_count": 28,
   "metadata": {},
   "outputs": [
    {
     "name": "stdout",
     "output_type": "stream",
     "text": [
      "스케일 조정 전 min value:  [6.981e+00 1.038e+01 4.379e+01 1.435e+02 5.263e-02 1.938e-02 0.000e+00\n",
      " 0.000e+00 1.060e-01 4.996e-02 1.115e-01 3.602e-01 7.570e-01 7.228e+00\n",
      " 2.838e-03 2.252e-03 0.000e+00 0.000e+00 7.882e-03 8.948e-04 7.930e+00\n",
      " 1.249e+01 5.041e+01 1.852e+02 8.125e-02 3.432e-02 0.000e+00 0.000e+00\n",
      " 1.565e-01 5.504e-02]\n",
      "스케일 조정 전 max value:  [2.811e+01 3.381e+01 1.885e+02 2.499e+03 1.447e-01 3.114e-01 4.268e-01\n",
      " 2.012e-01 3.040e-01 9.744e-02 2.873e+00 3.896e+00 2.198e+01 5.256e+02\n",
      " 3.113e-02 1.354e-01 3.960e-01 5.279e-02 6.146e-02 2.984e-02 3.313e+01\n",
      " 4.954e+01 2.293e+02 3.234e+03 2.226e-01 1.058e+00 1.252e+00 2.910e-01\n",
      " 6.638e-01 2.075e-01]\n",
      "스케일 조정 후 min value:  [-2.05959418 -2.06007032 -2.01803061 -1.47906849 -3.11840193 -1.61914251\n",
      " -1.12209848 -1.26938777 -2.78192834 -1.81018812 -1.07589572 -1.56507334\n",
      " -1.05735035 -0.77526135 -1.37519266 -1.27269316 -1.00981927 -1.8540401\n",
      " -1.58069217 -1.08204572 -1.75802372 -2.12998626 -1.72206377 -1.25531716\n",
      " -2.2407888  -1.36335806 -1.2896095  -1.75499271 -2.19557829 -1.54350637]\n",
      "스케일 조정 후 mix value:  [ 3.983046    3.35284486  3.99659366  5.2755639   3.42419492  3.94256298\n",
      "  4.20261238  3.91312864  4.51510874  4.92100768  9.00399628  4.83781834\n",
      "  9.51423902 11.3763671   7.75293988  5.98025485 11.36998328  6.44619355\n",
      "  5.1657793   9.67511962  3.51968449  3.81326034  3.64761068  4.21809238\n",
      "  3.87029285  4.90322123  4.50512912  2.66376471  6.09134431  6.520511  ]\n"
     ]
    }
   ],
   "source": [
    "print(\"스케일 조정 전 min value: \", x_train.min(axis=0))\n",
    "print('스케일 조정 전 max value: ', x_train.max(axis=0))\n",
    "print('스케일 조정 후 min value: ', x_scaled1.min(axis=0))\n",
    "print('스케일 조정 후 mix value: ', x_scaled1.max(axis=0))"
   ]
  },
  {
   "cell_type": "code",
   "execution_count": null,
   "metadata": {},
   "outputs": [],
   "source": []
  },
  {
   "cell_type": "code",
   "execution_count": null,
   "metadata": {},
   "outputs": [],
   "source": []
  },
  {
   "cell_type": "code",
   "execution_count": null,
   "metadata": {},
   "outputs": [],
   "source": []
  }
 ],
 "metadata": {
  "kernelspec": {
   "display_name": "Python 3.9.12 ('base')",
   "language": "python",
   "name": "python3"
  },
  "language_info": {
   "codemirror_mode": {
    "name": "ipython",
    "version": 3
   },
   "file_extension": ".py",
   "mimetype": "text/x-python",
   "name": "python",
   "nbconvert_exporter": "python",
   "pygments_lexer": "ipython3",
   "version": "3.9.12"
  },
  "orig_nbformat": 4,
  "vscode": {
   "interpreter": {
    "hash": "a077222d77dfe082b8f1dd562ad70e458ac2ab76993a0b248ab0476e32e9e8dd"
   }
  }
 },
 "nbformat": 4,
 "nbformat_minor": 2
}
